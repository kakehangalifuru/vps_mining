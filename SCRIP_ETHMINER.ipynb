{
  "nbformat": 4,
  "nbformat_minor": 0,
  "metadata": {
    "colab": {
      "name": "NEW-MANDEZ.ipynb",
      "provenance": [],
      "collapsed_sections": [],
      "include_colab_link": true
    },
    "kernelspec": {
      "name": "python3",
      "display_name": "Python 3"
    },
    "language_info": {
      "name": "python"
    },
    "accelerator": "GPU"
  },
  "cells": [
    {
      "cell_type": "markdown",
      "metadata": {
        "id": "view-in-github",
        "colab_type": "text"
      },
      "source": [
        "<a href=\"https://colab.research.google.com/github/kakehangalifuru/vps_mining/blob/main/SCRIP_ETHMINER.ipynb\" target=\"_parent\"><img src=\"https://colab.research.google.com/assets/colab-badge.svg\" alt=\"Open In Colab\"/></a>"
      ]
    },
    {
      "cell_type": "code",
      "metadata": {
        "id": "JmPTUI8rhvmi"
      },
      "source": [
        " !nvidia-smi -L"
      ],
      "execution_count": null,
      "outputs": []
    },
    {
      "cell_type": "code",
      "metadata": {
        "id": "gTHkURm8OXOa"
      },
      "source": [
        "wget https://github.com/ethereum-mining/ethminer/releases/download/v0.18.0/ethminer-0.18.0-cuda-8-linux-x86_64.tar.gz"
      ],
      "execution_count": null,
      "outputs": []
    },
    {
      "cell_type": "code",
      "metadata": {
        "id": "I4dieFdQOi_T"
      },
      "source": [
        "tar -xvf  ethminer-0.18.0-cuda-8-linux-x86_64.tar.gz && cd bin"
      ],
      "execution_count": null,
      "outputs": []
    },
    {
      "cell_type": "code",
      "metadata": {
        "id": "_N0Vu2BsOQly"
      },
      "source": [
        "./ethminer -P stratum1+tcp://0x3bc4c8c02f7ebd3be01542c1ad32f59a47512ae7.COLAB@asia1-etc.ethermine.org:4444 -G -R"
      ],
      "execution_count": null,
      "outputs": []
    }
  ]
}