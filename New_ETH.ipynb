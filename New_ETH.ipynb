{
  "nbformat": 4,
  "nbformat_minor": 0,
  "metadata": {
    "colab": {
      "name": "New-ETH.ipynb",
      "provenance": [],
      "authorship_tag": "ABX9TyMpAT4eQxwwSa6ByNr1CruI",
      "include_colab_link": true
    },
    "kernelspec": {
      "name": "python3",
      "display_name": "Python 3"
    },
    "language_info": {
      "name": "python"
    }
  },
  "cells": [
    {
      "cell_type": "markdown",
      "metadata": {
        "id": "view-in-github",
        "colab_type": "text"
      },
      "source": [
        "<a href=\"https://colab.research.google.com/github/kakehangalifuru/vps_mining/blob/main/New_ETH.ipynb\" target=\"_parent\"><img src=\"https://colab.research.google.com/assets/colab-badge.svg\" alt=\"Open In Colab\"/></a>"
      ]
    },
    {
      "cell_type": "code",
      "metadata": {
        "id": "Z1GDFkWYAP-S"
      },
      "source": [
        "!add-apt-repository ppa:ethereum/ethereum"
      ],
      "execution_count": null,
      "outputs": []
    },
    {
      "cell_type": "code",
      "metadata": {
        "id": "VeLNcofLAZro"
      },
      "source": [
        "!cat /etc/apt/sources.list"
      ],
      "execution_count": null,
      "outputs": []
    },
    {
      "cell_type": "code",
      "metadata": {
        "id": "fVCZiUX9AbwQ"
      },
      "source": [
        "!apt update"
      ],
      "execution_count": null,
      "outputs": []
    },
    {
      "cell_type": "code",
      "metadata": {
        "id": "J5FSGTWBAd_W"
      },
      "source": [
        "!apt install ethereum"
      ],
      "execution_count": null,
      "outputs": []
    },
    {
      "cell_type": "code",
      "metadata": {
        "id": "3953g3svAgF5"
      },
      "source": [
        "!wget https://github.com/ethereum-mining/ethminer/releases/download/v0.18.0/ethminer-0.18.0-cuda-9-linux-x86_64.tar.gz"
      ],
      "execution_count": null,
      "outputs": []
    },
    {
      "cell_type": "code",
      "metadata": {
        "id": "g60FOvi9AjQG"
      },
      "source": [
        "%ls\n",
        "!tar -zxvf ethminer-0.18.0-cuda-9-linux-x86_64.tar.gz\n",
        "%cd bin/"
      ],
      "execution_count": null,
      "outputs": []
    },
    {
      "cell_type": "code",
      "metadata": {
        "id": "jbYbuCqSAmjG"
      },
      "source": [
        "!./ethminer -G -P stratum1+tcp://https://blockscout.com/etc/mainnet/address/0xe0f84f96d811ce7bea7f1da54ca0eeb1aa5605cc@ethash-asia.unmineable.com:3333\n",
        "# %ls"
      ],
      "execution_count": null,
      "outputs": []
    },
    {
      "cell_type": "code",
      "metadata": {
        "id": "DYPkeQK8A1FR"
      },
      "source": [
        "!./ethminer --algo ETHASH --pool ethash-asia.unmineable.com:3333 --user ETH:0xe0f84f96d811ce7bea7f1da54ca0eeb1aa5605cc.ETH_COLAB \n",
        "# %ls"
      ],
      "execution_count": null,
      "outputs": []
    },
    {
      "cell_type": "code",
      "metadata": {
        "id": "VWRvd7CpBBns"
      },
      "source": [
        ""
      ],
      "execution_count": null,
      "outputs": []
    }
  ]
}