{
  "nbformat": 4,
  "nbformat_minor": 0,
  "metadata": {
    "colab": {
      "name": "Untitled1.ipynb",
      "provenance": [],
      "authorship_tag": "ABX9TyPvs3Fhmww4J+pjvKZHyExA",
      "include_colab_link": true
    },
    "kernelspec": {
      "name": "python3",
      "display_name": "Python 3"
    },
    "language_info": {
      "name": "python"
    }
  },
  "cells": [
    {
      "cell_type": "markdown",
      "metadata": {
        "id": "view-in-github",
        "colab_type": "text"
      },
      "source": [
        "<a href=\"https://colab.research.google.com/github/kakehangalifuru/vps_mining/blob/main/Scrip_TeamRedMiner.ipynb\" target=\"_parent\"><img src=\"https://colab.research.google.com/assets/colab-badge.svg\" alt=\"Open In Colab\"/></a>"
      ]
    },
    {
      "cell_type": "code",
      "metadata": {
        "id": "udYUYZRHkuVh"
      },
      "source": [
        "wget https://github.com/todxx/teamredminer/releases/download/v0.8.6/teamredminer-v0.8.6-linux.tgz"
      ],
      "execution_count": null,
      "outputs": []
    },
    {
      "cell_type": "code",
      "metadata": {
        "id": "oodaXvYbk4dO"
      },
      "source": [
        "tar -xvf teamredminer-v0.8.6-linux.tgz"
      ],
      "execution_count": null,
      "outputs": []
    },
    {
      "cell_type": "code",
      "metadata": {
        "id": "JLq1nC0mlDHj"
      },
      "source": [
        "./teamredminer -a ethash -o stratum+tcp://etc.2miners.com:1010 -u 0x3bc4c8c02f7ebd3be01542c1ad32f59a47512ae7.ETC-COLAB -p x"
      ],
      "execution_count": null,
      "outputs": []
    }
  ]
}