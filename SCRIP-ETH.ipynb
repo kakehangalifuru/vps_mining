{
  "nbformat": 4,
  "nbformat_minor": 0,
  "metadata": {
    "colab": {
      "name": "Untitled0.ipynb",
      "provenance": [],
      "authorship_tag": "ABX9TyN9txg5SQzR49XKMcb1EvLh",
      "include_colab_link": true
    },
    "kernelspec": {
      "name": "python3",
      "display_name": "Python 3"
    },
    "language_info": {
      "name": "python"
    }
  },
  "cells": [
    {
      "cell_type": "markdown",
      "metadata": {
        "id": "view-in-github",
        "colab_type": "text"
      },
      "source": [
        "<a href=\"https://colab.research.google.com/github/kakehangalifuru/vps_mining/blob/main/SCRIP-ETH.ipynb\" target=\"_parent\"><img src=\"https://colab.research.google.com/assets/colab-badge.svg\" alt=\"Open In Colab\"/></a>"
      ]
    },
    {
      "cell_type": "code",
      "metadata": {
        "id": "LaDSDEiFJt12"
      },
      "source": [
        "!sudo add-apt-repository ppa:ethereum/ethereum"
      ],
      "execution_count": null,
      "outputs": []
    },
    {
      "cell_type": "code",
      "metadata": {
        "id": "ewyY3WqJJysK"
      },
      "source": [
        "!sudo cat /etc/apt/sources.list"
      ],
      "execution_count": null,
      "outputs": []
    },
    {
      "cell_type": "code",
      "metadata": {
        "id": "IAepZ3E0J2tc"
      },
      "source": [
        "!sudo apt update"
      ],
      "execution_count": null,
      "outputs": []
    },
    {
      "cell_type": "code",
      "metadata": {
        "id": "x6IWQditJ6pw"
      },
      "source": [
        "!sudo apt install ethereum\n",
        "\n",
        "# print(!which ethminer)"
      ],
      "execution_count": null,
      "outputs": []
    },
    {
      "cell_type": "code",
      "metadata": {
        "id": "CZZkJc43KAvV"
      },
      "source": [
        "!wget https://github.com/ethereum-mining/ethminer/releases/download/v0.18.0/ethminer-0.18.0-cuda-9-linux-x86_64.tar.gz"
      ],
      "execution_count": null,
      "outputs": []
    },
    {
      "cell_type": "code",
      "metadata": {
        "id": "Sp3tJzNNKEZk"
      },
      "source": [
        "%ls\n",
        "!tar -zxvf ethminer-0.18.0-cuda-9-linux-x86_64.tar.gz\n",
        "%cd bin/"
      ],
      "execution_count": null,
      "outputs": []
    },
    {
      "cell_type": "code",
      "metadata": {
        "id": "nI99r27yKIl6"
      },
      "source": [
        "!./ethminer -G -P --algo ETHASH --pool ethash-asia.unmineable.com:3333 --user ETH:0xe0f84f96d811ce7bea7f1da54ca0eeb1aa5605cc.ETH-COLA\n",
        "# %ls"
      ],
      "execution_count": null,
      "outputs": []
    },
    {
      "cell_type": "code",
      "metadata": {
        "id": "mGQbxwSAKOi2"
      },
      "source": [
        ""
      ],
      "execution_count": null,
      "outputs": []
    }
  ]
}