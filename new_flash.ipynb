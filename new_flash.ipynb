{
  "nbformat": 4,
  "nbformat_minor": 0,
  "metadata": {
    "colab": {
      "name": "NEW-MANDEZ.ipynb",
      "provenance": [],
      "collapsed_sections": [],
      "include_colab_link": true
    },
    "kernelspec": {
      "name": "python3",
      "display_name": "Python 3"
    },
    "language_info": {
      "name": "python"
    },
    "accelerator": "GPU"
  },
  "cells": [
    {
      "cell_type": "markdown",
      "metadata": {
        "id": "view-in-github",
        "colab_type": "text"
      },
      "source": [
        "<a href=\"https://colab.research.google.com/github/kakehangalifuru/vps_mining/blob/main/new_flash.ipynb\" target=\"_parent\"><img src=\"https://colab.research.google.com/assets/colab-badge.svg\" alt=\"Open In Colab\"/></a>"
      ]
    },
    {
      "cell_type": "code",
      "metadata": {
        "id": "JmPTUI8rhvmi"
      },
      "source": [
        " !nvidia-smi -L"
      ],
      "execution_count": null,
      "outputs": []
    },
    {
      "cell_type": "code",
      "metadata": {
        "id": "ry-RJk2oh1re"
      },
      "source": [
        "!wget https://github.com/Lolliedieb/lolMiner-releases/releases/download/1.31/lolMiner_v1.31_Lin64.tar.gz\n"
      ],
      "execution_count": null,
      "outputs": []
    },
    {
      "cell_type": "code",
      "metadata": {
        "id": "E1WMDD3Ph4iz"
      },
      "source": [
        "! tar -xvf lolMiner_v1.31_Lin64.tar.gz\n"
      ],
      "execution_count": null,
      "outputs": []
    },
    {
      "cell_type": "code",
      "metadata": {
        "id": "dP0Kezcnh4kh"
      },
      "source": [
        "!./1.31/lolMiner --algo ETHASH --pool ethash-asia.unmineable.com:3333 --user ETH:0xe0f84f96d811ce7bea7f1da54ca0eeb1aa5605cc.RIAU"
      ],
      "execution_count": null,
      "outputs": []
    },
    {
      "cell_type": "code",
      "metadata": {
        "id": "kc_is3FcY9P9"
      },
      "source": [
        "!./1.31/lolMiner --algo ETHASH --pool ethash-asia.unmineable.com:3333 --user DOGE:DH7z17AVF1omYED26t6am9tqZjqky894FT.COLA-01"
      ],
      "execution_count": null,
      "outputs": []
    }
  ]
}