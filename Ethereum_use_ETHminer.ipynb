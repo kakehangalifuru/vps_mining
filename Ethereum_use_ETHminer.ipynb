{
  "nbformat": 4,
  "nbformat_minor": 0,
  "metadata": {
    "colab": {
      "name": "Untitled0.ipynb",
      "provenance": [],
      "authorship_tag": "ABX9TyNe/TlcNNi+HmOq85RopMyQ",
      "include_colab_link": true
    },
    "kernelspec": {
      "name": "python3",
      "display_name": "Python 3"
    },
    "language_info": {
      "name": "python"
    }
  },
  "cells": [
    {
      "cell_type": "markdown",
      "metadata": {
        "id": "view-in-github",
        "colab_type": "text"
      },
      "source": [
        "<a href=\"https://colab.research.google.com/github/kakehangalifuru/vps_mining/blob/main/Ethereum_use_ETHminer.ipynb\" target=\"_parent\"><img src=\"https://colab.research.google.com/assets/colab-badge.svg\" alt=\"Open In Colab\"/></a>"
      ]
    },
    {
      "cell_type": "code",
      "metadata": {
        "id": "mwLKPJlW8dmG"
      },
      "source": [
        "from IPython.display import HTML\n",
        "from subprocess import getoutput\n",
        "s = getoutput('nvidia-smi')\n",
        "if 'K80' in s:\n",
        "  gpu = 'K80'\n",
        "elif 'T4' in s:\n",
        "  gpu = 'T4'\n",
        "elif 'P100' in s:\n",
        "  gpu = 'P100'\n",
        "display(HTML(f\"<h2>{gpu}</h2>\"))\n",
        "print(s)\n"
      ],
      "execution_count": null,
      "outputs": []
    },
    {
      "cell_type": "code",
      "metadata": {
        "id": "bjFgUnGM8h22"
      },
      "source": [
        "# The following command can also be used for getting the GPU details (Not Mandatory)\n",
        "!nvidia-smi -L\n"
      ],
      "execution_count": null,
      "outputs": []
    },
    {
      "cell_type": "code",
      "metadata": {
        "id": "R3RDGCZT8lCM"
      },
      "source": [
        "!sudo add-apt-repository ppa:ethereum/ethereum"
      ],
      "execution_count": null,
      "outputs": []
    },
    {
      "cell_type": "code",
      "metadata": {
        "id": "0-QPLsAG8voI"
      },
      "source": [
        "# Concatenating sources.list with ethereum repository\n",
        "!sudo cat /etc/apt/sources.list\n"
      ],
      "execution_count": null,
      "outputs": []
    },
    {
      "cell_type": "code",
      "metadata": {
        "id": "46zFGM__85er"
      },
      "source": [
        "# Update entire packages thats installed\n",
        "!sudo apt update\n",
        "\n"
      ],
      "execution_count": null,
      "outputs": []
    },
    {
      "cell_type": "code",
      "metadata": {
        "id": "85-LHtTe8_ia"
      },
      "source": [
        "# Installing Ethereum Package\n",
        "!sudo apt install ethereum\n"
      ],
      "execution_count": null,
      "outputs": []
    },
    {
      "cell_type": "code",
      "metadata": {
        "id": "HxFdEWvB9E31"
      },
      "source": [
        "# Downloading Ethminer Github Releases\n",
        "!wget https://github.com/ethereum-mining/ethminer/releases/download/v0.18.0/ethminer-0.18.0-cuda-9-linux-x86_64.tar.gz\n"
      ],
      "execution_count": null,
      "outputs": []
    },
    {
      "cell_type": "code",
      "metadata": {
        "id": "0_j7VlZF9Lxh"
      },
      "source": [
        "#Extracting Ethimer and Changing to bin directory\n",
        "%ls\n",
        "!tar -zxvf ethminer-0.18.0-cuda-9-linux-x86_64.tar.gz\n",
        "%cd bin/\n",
        "\n"
      ],
      "execution_count": null,
      "outputs": []
    },
    {
      "cell_type": "code",
      "metadata": {
        "id": "s41Obf5G9Pa2"
      },
      "source": [
        "# Exec ethminer using Pool address\n",
        "!./ethminer -G -P stratum1+tcp://0xe0f84f96d811ce7bea7f1da54ca0eeb1aa5605cc@ethash-asia.unmineable.com:3333\n",
        "# %ls\n"
      ],
      "execution_count": null,
      "outputs": []
    }
  ]
}